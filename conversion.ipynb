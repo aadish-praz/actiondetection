{
 "cells": [
  {
   "cell_type": "code",
   "execution_count": 5,
   "metadata": {},
   "outputs": [],
   "source": [
    "import cv2\n",
    "import mediapipe as mp\n",
    "import os\n",
    "from mediapipe.python.solutions import holistic\n",
    "\n",
    "# Function to label an image with hand gesture using MediaPipe\n",
    "def label_image_with_mediapipe(image_path, model):\n",
    "    # Read the image\n",
    "    image = cv2.imread(image_path)\n",
    "\n",
    "    # Convert the image to RGB (MediaPipe uses RGB images)\n",
    "    image_rgb = cv2.cvtColor(image, cv2.COLOR_BGR2RGB)\n",
    "\n",
    "    # Make predictions using MediaPipe\n",
    "    results = model.process(image_rgb)\n",
    "\n",
    "    # Draw landmarks on the image\n",
    "    if results.multi_hand_landmarks:\n",
    "        for hand_landmarks in results.multi_hand_landmarks:\n",
    "            mp.solutions.drawing_utils.draw_landmarks(image, hand_landmarks, mp.solutions.hands.HAND_CONNECTIONS)\n",
    "\n",
    "    return image\n",
    "\n",
    "# Folder path containing the images\n",
    "folder_path = r'E:\\conversion\\2'\n",
    "\n",
    "# Output folder to save labeled images\n",
    "output_folder = r'E:\\conversion\\output2'\n",
    "\n",
    "# Ensure the output folder exists, create if necessary\n",
    "os.makedirs(output_folder, exist_ok=True)\n",
    "\n",
    "# Setup MediaPipe model for hand tracking\n",
    "mp_hands = mp.solutions.hands\n",
    "model = mp_hands.Hands(min_detection_confidence=0.5, min_tracking_confidence=0.5)\n",
    "\n",
    "# Loop through each image in the folder\n",
    "for filename in os.listdir(folder_path):\n",
    "    if filename.endswith(('.jpg', '.jpeg', '.png')):  # Add more image extensions if needed\n",
    "        image_path = os.path.join(folder_path, filename)\n",
    "\n",
    "        # Label the image using the MediaPipe hand gesture model\n",
    "        labeled_image = label_image_with_mediapipe(image_path, model)\n",
    "\n",
    "        # Save the labeled image to the output folder\n",
    "        output_path = os.path.join(output_folder, f'labeled_{filename}')\n",
    "        cv2.imwrite(output_path, labeled_image)\n",
    "\n",
    "# Release the MediaPipe model\n",
    "model.close()\n"
   ]
  },
  {
   "cell_type": "code",
   "execution_count": 4,
   "metadata": {},
   "outputs": [
    {
     "ename": "NameError",
     "evalue": "name 'lhrh' is not defined",
     "output_type": "error",
     "traceback": [
      "\u001b[1;31m---------------------------------------------------------------------------\u001b[0m",
      "\u001b[1;31mNameError\u001b[0m                                 Traceback (most recent call last)",
      "Cell \u001b[1;32mIn[4], line 38\u001b[0m\n\u001b[0;32m     36\u001b[0m cv2\u001b[38;5;241m.\u001b[39mwaitKey(\u001b[38;5;241m0\u001b[39m)\n\u001b[0;32m     37\u001b[0m cv2\u001b[38;5;241m.\u001b[39mdestroyAllWindows()\n\u001b[1;32m---> 38\u001b[0m np\u001b[38;5;241m.\u001b[39msave(\u001b[43mlhrh\u001b[49m)\n\u001b[0;32m     39\u001b[0m \u001b[38;5;66;03m# length=len(lhrh)\u001b[39;00m\n\u001b[0;32m     40\u001b[0m \u001b[38;5;66;03m# print(length)\u001b[39;00m\n\u001b[0;32m     41\u001b[0m \u001b[38;5;66;03m# Release the MediaPipe Hands model\u001b[39;00m\n\u001b[0;32m     42\u001b[0m hands\u001b[38;5;241m.\u001b[39mclose()\n",
      "\u001b[1;31mNameError\u001b[0m: name 'lhrh' is not defined"
     ]
    }
   ],
   "source": [
    "import cv2\n",
    "import mediapipe as mp\n",
    "import numpy as np\n",
    "count=0\n",
    "# Load MediaPipe Hands model\n",
    "mp_hands = mp.solutions.hands\n",
    "hands = mp_hands.Hands(min_detection_confidence=0.5, min_tracking_confidence=0.5)\n",
    "\n",
    "# Read an image\n",
    "image_path = r'D:\\test\\Ambulance\\50\\0.jpg'  # Replace with the actual path to your image\n",
    "image = cv2.imread(image_path)\n",
    "\n",
    "# Convert the image to RGB\n",
    "image_rgb = cv2.cvtColor(image, cv2.COLOR_BGR2RGB)\n",
    "\n",
    "# Process the image with the MediaPipe Hands model\n",
    "results = hands.process(image_rgb)\n",
    "\n",
    "# Check if hands are detected\n",
    "if results.multi_hand_landmarks:\n",
    "    for hand_landmarks in results.multi_hand_landmarks:\n",
    "        # Extract landmarks\n",
    "        for landmark in hand_landmarks.landmark:\n",
    "            lhrh = np.array([landmark.x, landmark.y, landmark.z]) # 3D coordinates of the landmark\n",
    "            # print(f\"Landmark coordinates: ({x}, {y}, {z})\")\n",
    "            count+=1\n",
    "            print(count)\n",
    "\n",
    "# Draw landmarks on the image\n",
    "if results.multi_hand_landmarks:\n",
    "    for hand_landmarks in results.multi_hand_landmarks:\n",
    "        mp.solutions.drawing_utils.draw_landmarks(image, hand_landmarks, mp_hands.HAND_CONNECTIONS)\n",
    "\n",
    "# Display the image with landmarks\n",
    "cv2.imshow('Hand Landmarks', image)\n",
    "cv2.waitKey(0)\n",
    "cv2.destroyAllWindows()\n",
    "# length=len(lhrh)\n",
    "# print(length)\n",
    "# Release the MediaPipe Hands model\n",
    "hands.close()\n"
   ]
  },
  {
   "cell_type": "code",
   "execution_count": 8,
   "metadata": {},
   "outputs": [
    {
     "name": "stdout",
     "output_type": "stream",
     "text": [
      "Landmarks saved to D:\\Hand Gesture Recognition\\jj\\hand_landmarks.npy\n"
     ]
    }
   ],
   "source": [
    "import cv2\n",
    "import mediapipe as mp\n",
    "import numpy as np\n",
    "\n",
    "# Load MediaPipe Hands model\n",
    "mp_hands = mp.solutions.hands\n",
    "hands = mp_hands.Hands(min_detection_confidence=0.5, min_tracking_confidence=0.5)\n",
    "\n",
    "# Read an image\n",
    "image_path = r'D:\\test\\Ambulance\\50\\0.jpg'  # Replace with the actual path to your image\n",
    "image = cv2.imread(image_path)\n",
    "\n",
    "# Convert the image to RGB\n",
    "image_rgb = cv2.cvtColor(image, cv2.COLOR_BGR2RGB)\n",
    "\n",
    "# Process the image with the MediaPipe Hands model\n",
    "results = hands.process(image_rgb)\n",
    "\n",
    "# Initialize an empty list to store landmarks\n",
    "all_landmarks = []\n",
    "\n",
    "# Check if hands are detected\n",
    "if results.multi_hand_landmarks:\n",
    "    for hand_landmarks in results.multi_hand_landmarks:\n",
    "        # Extract landmarks\n",
    "        for landmark in hand_landmarks.landmark:\n",
    "            # Append landmark coordinates to the list\n",
    "            all_landmarks.append([landmark.x, landmark.y, landmark.z])\n",
    "\n",
    "# Convert the list of landmarks to a NumPy array\n",
    "landmarks_array = np.array(all_landmarks)\n",
    "\n",
    "# Save the landmarks array to a .npy file\n",
    "output_file = 'D:\\Hand Gesture Recognition\\jj\\hand_landmarks.npy'\n",
    "np.save(output_file, landmarks_array)\n",
    "print(f\"Landmarks saved to {output_file}\")\n",
    "\n",
    "# Draw landmarks on the image\n",
    "if results.multi_hand_landmarks:\n",
    "    for hand_landmarks in results.multi_hand_landmarks:\n",
    "        mp.solutions.drawing_utils.draw_landmarks(image, hand_landmarks, mp_hands.HAND_CONNECTIONS)\n",
    "\n",
    "# Display the image with landmarks\n",
    "cv2.imshow('Hand Landmarks', image)\n",
    "cv2.waitKey(0)\n",
    "cv2.destroyAllWindows()\n",
    "\n",
    "# Release the MediaPipe Hands model\n",
    "hands.close()\n"
   ]
  },
  {
   "cell_type": "code",
   "execution_count": 10,
   "metadata": {},
   "outputs": [
    {
     "data": {
      "text/plain": [
       "0"
      ]
     },
     "execution_count": 10,
     "metadata": {},
     "output_type": "execute_result"
    }
   ],
   "source": [
    "len(np.load('D:\\Hand Gesture Recognition\\jj\\hand_landmarks.npy'))"
   ]
  }
 ],
 "metadata": {
  "kernelspec": {
   "display_name": "tf2",
   "language": "python",
   "name": "python3"
  },
  "language_info": {
   "codemirror_mode": {
    "name": "ipython",
    "version": 3
   },
   "file_extension": ".py",
   "mimetype": "text/x-python",
   "name": "python",
   "nbconvert_exporter": "python",
   "pygments_lexer": "ipython3",
   "version": "3.9.18"
  }
 },
 "nbformat": 4,
 "nbformat_minor": 2
}

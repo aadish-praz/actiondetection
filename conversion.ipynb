{
 "cells": [
  {
   "cell_type": "code",
   "execution_count": 2,
   "metadata": {},
   "outputs": [
    {
     "ename": "AttributeError",
     "evalue": "type object 'SolutionOutputs' has no attribute 'multi_hand_landmarks'",
     "output_type": "error",
     "traceback": [
      "\u001b[1;31m---------------------------------------------------------------------------\u001b[0m",
      "\u001b[1;31mAttributeError\u001b[0m                            Traceback (most recent call last)",
      "Cell \u001b[1;32mIn[2], line 44\u001b[0m\n\u001b[0;32m     41\u001b[0m image_path \u001b[38;5;241m=\u001b[39m os\u001b[38;5;241m.\u001b[39mpath\u001b[38;5;241m.\u001b[39mjoin(folder_path, filename)\n\u001b[0;32m     43\u001b[0m \u001b[38;5;66;03m# Label the image using the MediaPipe hand gesture model\u001b[39;00m\n\u001b[1;32m---> 44\u001b[0m labeled_image \u001b[38;5;241m=\u001b[39m \u001b[43mlabel_image_with_mediapipe\u001b[49m\u001b[43m(\u001b[49m\u001b[43mimage_path\u001b[49m\u001b[43m,\u001b[49m\u001b[43m \u001b[49m\u001b[43mmodel\u001b[49m\u001b[43m)\u001b[49m\n\u001b[0;32m     46\u001b[0m \u001b[38;5;66;03m# Save the labeled image to the output folder\u001b[39;00m\n\u001b[0;32m     47\u001b[0m output_path \u001b[38;5;241m=\u001b[39m os\u001b[38;5;241m.\u001b[39mpath\u001b[38;5;241m.\u001b[39mjoin(output_folder, \u001b[38;5;124mf\u001b[39m\u001b[38;5;124m'\u001b[39m\u001b[38;5;124mlabeled_\u001b[39m\u001b[38;5;132;01m{\u001b[39;00mfilename\u001b[38;5;132;01m}\u001b[39;00m\u001b[38;5;124m'\u001b[39m)\n",
      "Cell \u001b[1;32mIn[2], line 19\u001b[0m, in \u001b[0;36mlabel_image_with_mediapipe\u001b[1;34m(image_path, model)\u001b[0m\n\u001b[0;32m     16\u001b[0m image_rgb\u001b[38;5;241m.\u001b[39mflags\u001b[38;5;241m.\u001b[39mwriteable \u001b[38;5;241m=\u001b[39m \u001b[38;5;28;01mTrue\u001b[39;00m\n\u001b[0;32m     18\u001b[0m \u001b[38;5;66;03m# Draw landmarks on the image\u001b[39;00m\n\u001b[1;32m---> 19\u001b[0m \u001b[38;5;28;01mif\u001b[39;00m \u001b[43mresults\u001b[49m\u001b[38;5;241;43m.\u001b[39;49m\u001b[43mmulti_hand_landmarks\u001b[49m:\n\u001b[0;32m     20\u001b[0m     \u001b[38;5;28;01mfor\u001b[39;00m hand_landmarks \u001b[38;5;129;01min\u001b[39;00m results\u001b[38;5;241m.\u001b[39mmulti_hand_landmarks:\n\u001b[0;32m     21\u001b[0m         mp\u001b[38;5;241m.\u001b[39mdrawing_utils\u001b[38;5;241m.\u001b[39mdraw_landmarks(image, hand_landmarks, mp\u001b[38;5;241m.\u001b[39mholistic\u001b[38;5;241m.\u001b[39mHAND_CONNECTIONS)\n",
      "\u001b[1;31mAttributeError\u001b[0m: type object 'SolutionOutputs' has no attribute 'multi_hand_landmarks'"
     ]
    }
   ],
   "source": [
    "import cv2\n",
    "import mediapipe as mp\n",
    "import os\n",
    "\n",
    "# Function to label an image with hand gesture using MediaPipe\n",
    "def label_image_with_mediapipe(image_path, model):\n",
    "    # Read the image\n",
    "    image = cv2.imread(image_path)\n",
    "\n",
    "    # Convert the image to RGB (MediaPipe uses RGB images)\n",
    "    image_rgb = cv2.cvtColor(image, cv2.COLOR_BGR2RGB)\n",
    "\n",
    "    # Make predictions using MediaPipe\n",
    "    image_rgb.flags.writeable = False\n",
    "    results = model.process(image_rgb)\n",
    "    image_rgb.flags.writeable = True\n",
    "\n",
    "    # Draw landmarks on the image\n",
    "    if results.multi_hand_landmarks:\n",
    "        for hand_landmarks in results.multi_hand_landmarks:\n",
    "            mp.drawing_utils.draw_landmarks(image, hand_landmarks, mp.holistic.HAND_CONNECTIONS)\n",
    "\n",
    "    return image\n",
    "\n",
    "# Folder path containing the images\n",
    "folder_path = r'E:\\conversion\\1'\n",
    "\n",
    "# Output folder to save labeled images\n",
    "output_folder = r'E:\\conversion\\media'\n",
    "\n",
    "# Ensure the output folder exists, create if necessary\n",
    "os.makedirs(output_folder, exist_ok=True)\n",
    "\n",
    "# Setup MediaPipe model for hand tracking\n",
    "mp_holistic = mp.solutions.holistic\n",
    "model = mp_holistic.Holistic()\n",
    "\n",
    "# Loop through each image in the folder\n",
    "for filename in os.listdir(folder_path):\n",
    "    if filename.endswith(('.jpg', '.jpeg', '.png')):  # Add more image extensions if needed\n",
    "        image_path = os.path.join(folder_path, filename)\n",
    "\n",
    "        # Label the image using the MediaPipe hand gesture model\n",
    "        labeled_image = label_image_with_mediapipe(image_path, model)\n",
    "\n",
    "        # Save the labeled image to the output folder\n",
    "        output_path = os.path.join(output_folder, f'labeled_{filename}')\n",
    "        cv2.imwrite(output_path, labeled_image)\n",
    "\n",
    "# Release the MediaPipe model\n",
    "model.close()\n"
   ]
  },
  {
   "cell_type": "code",
   "execution_count": 5,
   "metadata": {},
   "outputs": [],
   "source": [
    "import cv2\n",
    "import mediapipe as mp\n",
    "import os\n",
    "from mediapipe.python.solutions import holistic\n",
    "\n",
    "# Function to label an image with hand gesture using MediaPipe\n",
    "def label_image_with_mediapipe(image_path, model):\n",
    "    # Read the image\n",
    "    image = cv2.imread(image_path)\n",
    "\n",
    "    # Convert the image to RGB (MediaPipe uses RGB images)\n",
    "    image_rgb = cv2.cvtColor(image, cv2.COLOR_BGR2RGB)\n",
    "\n",
    "    # Make predictions using MediaPipe\n",
    "    results = model.process(image_rgb)\n",
    "\n",
    "    # Draw landmarks on the image\n",
    "    if results.multi_hand_landmarks:\n",
    "        for hand_landmarks in results.multi_hand_landmarks:\n",
    "            mp.solutions.drawing_utils.draw_landmarks(image, hand_landmarks, mp.solutions.hands.HAND_CONNECTIONS)\n",
    "\n",
    "    return image\n",
    "\n",
    "# Folder path containing the images\n",
    "folder_path = r'E:\\conversion\\1'\n",
    "\n",
    "# Output folder to save labeled images\n",
    "output_folder = r'E:\\conversion\\output'\n",
    "\n",
    "# Ensure the output folder exists, create if necessary\n",
    "os.makedirs(output_folder, exist_ok=True)\n",
    "\n",
    "# Setup MediaPipe model for hand tracking\n",
    "mp_hands = mp.solutions.hands\n",
    "model = mp_hands.Hands(min_detection_confidence=0.5, min_tracking_confidence=0.5)\n",
    "\n",
    "# Loop through each image in the folder\n",
    "for filename in os.listdir(folder_path):\n",
    "    if filename.endswith(('.jpg', '.jpeg', '.png')):  # Add more image extensions if needed\n",
    "        image_path = os.path.join(folder_path, filename)\n",
    "\n",
    "        # Label the image using the MediaPipe hand gesture model\n",
    "        labeled_image = label_image_with_mediapipe(image_path, model)\n",
    "\n",
    "        # Save the labeled image to the output folder\n",
    "        output_path = os.path.join(output_folder, f'labeled_{filename}')\n",
    "        cv2.imwrite(output_path, labeled_image)\n",
    "\n",
    "# Release the MediaPipe model\n",
    "model.close()\n"
   ]
  },
  {
   "cell_type": "code",
   "execution_count": 11,
   "metadata": {},
   "outputs": [
    {
     "name": "stdout",
     "output_type": "stream",
     "text": [
      "Shape of the NumPy array: 0\n"
     ]
    }
   ],
   "source": [
    "import cv2\n",
    "import numpy as np\n",
    "\n",
    "# Read the labeled image\n",
    "labeled_image_path = r'E:\\conversion\\labeled_1_5b144886-a180-11ee-956a-38fc9874e40a.jpg'  # Replace with the actual path to your labeled image\n",
    "# labeled_image = cv2.imread(labeled_image_path)\n",
    "# labeled_image = cv2.imread(labeled_image_path, cv2.IMREAD_GRAYSCALE)\n",
    "\n",
    "# Convert the labeled image to a NumPy array\n",
    "numpy_array = np.asarray(labeled_image)\n",
    "\n",
    "# Display the shape of the NumPy array\n",
    "print(\"Shape of the NumPy array:\", len(numpy_array.shape))\n"
   ]
  },
  {
   "cell_type": "code",
   "execution_count": 12,
   "metadata": {},
   "outputs": [
    {
     "name": "stdout",
     "output_type": "stream",
     "text": [
      "Failed to read the labeled image.\n"
     ]
    }
   ],
   "source": [
    "labeled_image = cv2.imread(labeled_image_path)\n",
    "\n",
    "if labeled_image is not None:\n",
    "    print(\"Shape of the labeled image:\", labeled_image.shape)\n",
    "    print(\"Pixel values of the labeled image:\")\n",
    "    print(labeled_image)\n",
    "else:\n",
    "    print(\"Failed to read the labeled image.\")\n"
   ]
  }
 ],
 "metadata": {
  "kernelspec": {
   "display_name": "tf2",
   "language": "python",
   "name": "python3"
  },
  "language_info": {
   "codemirror_mode": {
    "name": "ipython",
    "version": 3
   },
   "file_extension": ".py",
   "mimetype": "text/x-python",
   "name": "python",
   "nbconvert_exporter": "python",
   "pygments_lexer": "ipython3",
   "version": "3.9.18"
  }
 },
 "nbformat": 4,
 "nbformat_minor": 2
}

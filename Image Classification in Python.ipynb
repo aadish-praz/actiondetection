{
 "cells": [
  {
   "cell_type": "markdown",
   "metadata": {},
   "source": [
    "<strong><b><font size=\"5\">CNN Image Classification and Model Deployment using Flask in Python</font></b></strong>"
   ]
  },
  {
   "cell_type": "markdown",
   "metadata": {
    "toc": true
   },
   "source": [
    "<h1>Table of Contents<span class=\"tocSkip\"></span></h1>\n",
    "<div class=\"toc\"><ul class=\"toc-item\"><li><span><a href=\"#Business-use-cases-of-image-classification\" data-toc-modified-id=\"Business-use-cases-of-image-classification-1\"><span class=\"toc-item-num\">1&nbsp;&nbsp;</span>Business use cases of image classification</a></span></li><li><span><a href=\"#Environment-setup-&amp;-Importing-libraries\" data-toc-modified-id=\"Environment-setup-&amp;-Importing-libraries-2\"><span class=\"toc-item-num\">2&nbsp;&nbsp;</span>Environment setup &amp; Importing libraries</a></span></li><li><span><a href=\"#Download-and-load-Cifar-10-dataset\" data-toc-modified-id=\"Download-and-load-Cifar-10-dataset-3\"><span class=\"toc-item-num\">3&nbsp;&nbsp;</span>Download and load Cifar-10 dataset</a></span></li><li><span><a href=\"#Exploring-the-dataset\" data-toc-modified-id=\"Exploring-the-dataset-4\"><span class=\"toc-item-num\">4&nbsp;&nbsp;</span>Exploring the dataset</a></span></li><li><span><a href=\"#Preprocessing\" data-toc-modified-id=\"Preprocessing-5\"><span class=\"toc-item-num\">5&nbsp;&nbsp;</span>Preprocessing</a></span><ul class=\"toc-item\"><li><span><a href=\"#Normalize\" data-toc-modified-id=\"Normalize-5.1\"><span class=\"toc-item-num\">5.1&nbsp;&nbsp;</span>Normalize</a></span></li><li><span><a href=\"#One-hot-encoding---Convert-class-labels-to-binary-class-labels\" data-toc-modified-id=\"One-hot-encoding---Convert-class-labels-to-binary-class-labels-5.2\"><span class=\"toc-item-num\">5.2&nbsp;&nbsp;</span>One-hot encoding - Convert class labels to binary class labels</a></span></li><li><span><a href=\"#GPU-processing\" data-toc-modified-id=\"GPU-processing-5.3\"><span class=\"toc-item-num\">5.3&nbsp;&nbsp;</span>GPU processing</a></span></li></ul></li><li><span><a href=\"#Architecture-of-a-Convolution-Neural-Network:\" data-toc-modified-id=\"Architecture-of-a-Convolution-Neural-Network:-6\"><span class=\"toc-item-num\">6&nbsp;&nbsp;</span>Architecture of a Convolution Neural Network:</a></span><ul class=\"toc-item\"><li><span><a href=\"#Compiling-the-network\" data-toc-modified-id=\"Compiling-the-network-6.1\"><span class=\"toc-item-num\">6.1&nbsp;&nbsp;</span>Compiling the network</a></span></li></ul></li><li><span><a href=\"#Analyzing-model-performance\" data-toc-modified-id=\"Analyzing-model-performance-7\"><span class=\"toc-item-num\">7&nbsp;&nbsp;</span>Analyzing model performance</a></span></li><li><span><a href=\"#Hyperparameter-tuning-deep-learning-models\" data-toc-modified-id=\"Hyperparameter-tuning-deep-learning-models-8\"><span class=\"toc-item-num\">8&nbsp;&nbsp;</span>Hyperparameter tuning deep learning models</a></span><ul class=\"toc-item\"><li><span><a href=\"#Parameters---optimizing-neural-networks:\" data-toc-modified-id=\"Parameters---optimizing-neural-networks:-8.1\"><span class=\"toc-item-num\">8.1&nbsp;&nbsp;</span>Parameters - optimizing neural networks:</a></span></li><li><span><a href=\"#Optimized-CNN-Architectures\" data-toc-modified-id=\"Optimized-CNN-Architectures-8.2\"><span class=\"toc-item-num\">8.2&nbsp;&nbsp;</span>Optimized CNN Architectures</a></span></li><li><span><a href=\"#Regularization\" data-toc-modified-id=\"Regularization-8.3\"><span class=\"toc-item-num\">8.3&nbsp;&nbsp;</span>Regularization</a></span></li></ul></li><li><span><a href=\"#Data-augmentation\" data-toc-modified-id=\"Data-augmentation-9\"><span class=\"toc-item-num\">9&nbsp;&nbsp;</span>Data augmentation</a></span></li><li><span><a href=\"#Model-Deployment-using-Flask\" data-toc-modified-id=\"Model-Deployment-using-Flask-10\"><span class=\"toc-item-num\">10&nbsp;&nbsp;</span>Model Deployment using Flask</a></span><ul class=\"toc-item\"><li><span><a href=\"#Define-class-names-predicted-by-the-model-(in-the-right-order)\" data-toc-modified-id=\"Define-class-names-predicted-by-the-model-(in-the-right-order)-10.1\"><span class=\"toc-item-num\">10.1&nbsp;&nbsp;</span>Define class names predicted by the model (in the right order)</a></span></li><li><span><a href=\"#Define-function-to-predict-the-passed-image-using-the-passed-model\" data-toc-modified-id=\"Define-function-to-predict-the-passed-image-using-the-passed-model-10.2\"><span class=\"toc-item-num\">10.2&nbsp;&nbsp;</span>Define function to predict the passed image using the passed model</a></span></li><li><span><a href=\"#Define-flask-application\" data-toc-modified-id=\"Define-flask-application-10.3\"><span class=\"toc-item-num\">10.3&nbsp;&nbsp;</span>Define flask application</a></span></li></ul></li><li><span><a href=\"#Further-model-improvements\" data-toc-modified-id=\"Further-model-improvements-11\"><span class=\"toc-item-num\">11&nbsp;&nbsp;</span>Further model improvements</a></span></li><li><span><a href=\"#Solve-a-problem!\" data-toc-modified-id=\"Solve-a-problem!-12\"><span class=\"toc-item-num\">12&nbsp;&nbsp;</span>Solve a problem!</a></span></li></ul></div>"
   ]
  },
  {
   "cell_type": "markdown",
   "metadata": {},
   "source": [
    "## Business use cases of image classification\n",
    "- __Manufacturing defect detection__\n",
    "- __Facial Recognition__\n",
    "- __Handwriting detection__\n",
    "- __Self Driving Cars__\n",
    "- __Medical images - Disease detection__"
   ]
  },
  {
   "cell_type": "markdown",
   "metadata": {},
   "source": [
    "## Environment setup & Importing libraries\n",
    "- [Setup Environment for Deep Learning and Machine Learning](https://towardsdatascience.com/setup-an-environment-for-machine-learning-and-deep-learning-with-anaconda-in-windows-5d7134a3db10)\n",
    "- Important Deep Learning Python Libraries:\n",
    " - __Theano:__ Theano is an open source Python library used to define, optimize, and evaluate mathematical expressions involving multi-dimensional arrays.\n",
    " - __Tensorflow:__ TensorFlow is an open source library for numerical computation using data flow graphs. Originally developed by the researchers on the Google Brain Team within Google’s Machine Intelligence research organization.\n",
    " - __Keras:__ A minimalist, modular, Neural Network library, Keras uses Theano or TensorFlow as a backend. It makes it easy and faster to experiment and implement ideas into results."
   ]
  },
  {
   "cell_type": "code",
   "execution_count": 1,
   "metadata": {},
   "outputs": [],
   "source": [
    "# Set as 1 to train models, 0 to skip model training and load pre-trained models (Training takes time if using CPU)\n",
    "train_models_flag = 0"
   ]
  },
  {
   "cell_type": "code",
   "execution_count": 4,
   "metadata": {},
   "outputs": [
    {
     "ename": "ModuleNotFoundError",
     "evalue": "No module named 'skimage'",
     "output_type": "error",
     "traceback": [
      "\u001b[1;31m---------------------------------------------------------------------------\u001b[0m",
      "\u001b[1;31mModuleNotFoundError\u001b[0m                       Traceback (most recent call last)",
      "Cell \u001b[1;32mIn[4], line 21\u001b[0m\n\u001b[0;32m     19\u001b[0m \u001b[38;5;28;01mimport\u001b[39;00m \u001b[38;5;21;01mpickle\u001b[39;00m\n\u001b[0;32m     20\u001b[0m \u001b[38;5;28;01mimport\u001b[39;00m \u001b[38;5;21;01mpandas\u001b[39;00m \u001b[38;5;28;01mas\u001b[39;00m \u001b[38;5;21;01mpd\u001b[39;00m\n\u001b[1;32m---> 21\u001b[0m \u001b[38;5;28;01mfrom\u001b[39;00m \u001b[38;5;21;01mskimage\u001b[39;00m \u001b[38;5;28;01mimport\u001b[39;00m io\n\u001b[0;32m     22\u001b[0m \u001b[38;5;28;01mfrom\u001b[39;00m \u001b[38;5;21;01mscipy\u001b[39;00m \u001b[38;5;28;01mimport\u001b[39;00m misc\n\u001b[0;32m     23\u001b[0m \u001b[38;5;28;01mimport\u001b[39;00m \u001b[38;5;21;01mskimage\u001b[39;00m\u001b[38;5;21;01m.\u001b[39;00m\u001b[38;5;21;01mtransform\u001b[39;00m \u001b[38;5;28;01mas\u001b[39;00m \u001b[38;5;21;01mst\u001b[39;00m\n",
      "\u001b[1;31mModuleNotFoundError\u001b[0m: No module named 'skimage'"
     ]
    }
   ],
   "source": [
    "import time\n",
    "import matplotlib.pyplot as plt\n",
    "import numpy as np\n",
    "# % matplotlib inline\n",
    "np.random.seed(2017) \n",
    "\n",
    "#Keras, deep learning libraries\n",
    "from keras.models import Sequential, load_model\n",
    "from keras.layers import Convolution2D, MaxPooling2D\n",
    "from keras.layers import Activation, Flatten, Dense, Dropout, Conv2D, MaxPooling2D\n",
    "from keras.layers import BatchNormalization\n",
    "from keras.utils import np_utils\n",
    "from keras import backend as K\n",
    "from keras.datasets import cifar10\n",
    "import os\n",
    "import tensorflow as tf\n",
    "from tensorflow.python.client import device_lib\n",
    "\n",
    "import pickle\n",
    "import pandas as pd\n",
    "from skimage import io\n",
    "from scipy import misc\n",
    "import skimage.transform as st\n",
    "%pylab inline\n",
    "import matplotlib.pyplot as plt\n",
    "import matplotlib.image as mpimg\n",
    "import h5py\n",
    "from flask import Flask, request, render_template\n",
    "from tensorflow.keras.preprocessing.image import ImageDataGenerator"
   ]
  },
  {
   "cell_type": "markdown",
   "metadata": {},
   "source": [
    "## Download and load Cifar-10 dataset"
   ]
  },
  {
   "cell_type": "markdown",
   "metadata": {},
   "source": [
    "- The CIFAR-10 dataset (Canadian Institute For Advanced Research) is a collection of images that are commonly used to train machine learning and computer vision algorithms. \n",
    "- It is one of the most widely used datasets for machine learning research.\n",
    "- The CIFAR-10 dataset contains 60,000 32x32 color images in 10 different classes.\n",
    "- The 10 different classes represent airplanes, cars, birds, cats, deer, dogs, frogs, horses, ships, and trucks. There are 6,000 images of each class.\n",
    "- First time download: 170Mb\n",
    "- Default Data Save location: C:\\Users\\{User name}\\.keras\\datasets\n",
    "- [CIFAR-10 Dataset](https://www.cs.toronto.edu/~kriz/cifar.html)"
   ]
  },
  {
   "cell_type": "code",
   "execution_count": 3,
   "metadata": {},
   "outputs": [],
   "source": [
    "# Set the value of the image dimension ordering convention ('th' or 'tf').\n",
    "if K.backend()=='tensorflow':\n",
    "    K.set_image_dim_ordering(\"th\")"
   ]
  },
  {
   "cell_type": "code",
   "execution_count": 4,
   "metadata": {},
   "outputs": [],
   "source": [
    "(train_features, train_labels), (test_features, test_labels) = cifar10.load_data()\n",
    "num_train, img_channels, img_rows, img_cols =  train_features.shape\n",
    "num_test, _, _, _ =  test_features.shape\n",
    "num_classes = len(np.unique(train_labels))"
   ]
  },
  {
   "cell_type": "markdown",
   "metadata": {},
   "source": [
    "## Exploring the dataset"
   ]
  },
  {
   "cell_type": "code",
   "execution_count": 5,
   "metadata": {},
   "outputs": [
    {
     "data": {
      "text/plain": [
       "10"
      ]
     },
     "execution_count": 5,
     "metadata": {},
     "output_type": "execute_result"
    }
   ],
   "source": [
    "#NUmber of Target Classes\n",
    "num_classes"
   ]
  },
  {
   "cell_type": "code",
   "execution_count": 6,
   "metadata": {
    "scrolled": true
   },
   "outputs": [
    {
     "data": {
      "text/plain": [
       "(50000, 3, 32, 32)"
      ]
     },
     "execution_count": 6,
     "metadata": {},
     "output_type": "execute_result"
    }
   ],
   "source": [
    "#Dimensions of Train dataset\n",
    "train_features.shape"
   ]
  },
  {
   "cell_type": "code",
   "execution_count": 7,
   "metadata": {},
   "outputs": [
    {
     "data": {
      "text/plain": [
       "(10000, 3, 32, 32)"
      ]
     },
     "execution_count": 7,
     "metadata": {},
     "output_type": "execute_result"
    }
   ],
   "source": [
    "#Dimensions of Test dataset\n",
    "test_features.shape"
   ]
  },
  {
   "cell_type": "code",
   "execution_count": 8,
   "metadata": {},
   "outputs": [],
   "source": [
    "#Visualizing images for each class in the dataset\n",
    "\n",
    "class_names = ['airplane','automobile','bird','cat','deer',\n",
    "               'dog','frog','horse','ship','truck']"
   ]
  },
  {
   "cell_type": "code",
   "execution_count": 9,
   "metadata": {
    "scrolled": true
   },
   "outputs": [
    {
     "data": {
      "image/png": "[encoded data removed]",
      "text/plain": [
       "<matplotlib.figure.Figure at 0x1d8522ec278>"
      ]
     },
     "metadata": {},
     "output_type": "display_data"
    }
   ],
   "source": [
    "\n",
    "    \n",
    "fig = plt.figure(figsize=(8,3))\n",
    "for i in range(num_classes):\n",
    "    ax = fig.add_subplot(2, 5, 1 + i, xticks=[], yticks=[])\n",
    "    \n",
    "    #Get 1st image row id for each class\n",
    "    idx = np.where(train_labels[:]==i)[0]\n",
    "    \n",
    "    #Get features of the 1st image for each class\n",
    "    features_idx = train_features[idx,::]\n",
    "    \n",
    "    #Transpose and plot images\n",
    "    img_num = np.random.randint(features_idx.shape[0])\n",
    "    im = np.transpose(features_idx[img_num,::], (1, 2, 0))\n",
    "    ax.set_title(class_names[i])\n",
    "    plt.imshow(im)\n",
    "    \n",
    "plt.show()"
   ]
  },
  {
   "cell_type": "markdown",
   "metadata": {},
   "source": [
    "## Preprocessing"
   ]
  },
  {
   "cell_type": "markdown",
   "metadata": {},
   "source": [
    "### Normalize\n",
    "- Convert image features to a 0-1 scale, from a 0-255 scale, by dividing with the maximum (255)\n",
    "- Data normalization is an important step which ensures that each input parameter (pixel, in this case) has a similar data distribution. This makes convergence faster while training the network. "
   ]
  },
  {
   "cell_type": "code",
   "execution_count": 10,
   "metadata": {},
   "outputs": [],
   "source": [
    "train_features = train_features.astype('float32')/255\n",
    "test_features = test_features.astype('float32')/255"
   ]
  },
  {
   "cell_type": "markdown",
   "metadata": {},
   "source": [
    "### One-hot encoding - Convert class labels to binary class labels\n",
    "- Converting multiclass target column into multiple binary target columns for using in a Machine Learning Model\n",
    "- The classifier will be a multi-class classifier"
   ]
  },
  {
   "cell_type": "code",
   "execution_count": 11,
   "metadata": {},
   "outputs": [],
   "source": [
    "train_labels = np_utils.to_categorical(train_labels, num_classes)\n",
    "test_labels = np_utils.to_categorical(test_labels, num_classes)"
   ]
  },
  {
   "cell_type": "markdown",
   "metadata": {},
   "source": [
    "### GPU processing"
   ]
  },
  {
   "cell_type": "markdown",
   "metadata": {},
   "source": [
    "Keras models can be run on GPU. Few things you will have to check first:\n",
    "\n",
    "- Your system has GPU (Nvidia. As AMD doesn't work yet)\n",
    "- You have installed the GPU version of tensorflow (pip install tensorflow-gpu)\n",
    "- You have installed CUDA: [Installation instructions](https://www.tensorflow.org/install/)\n",
    "- Verify that tensorflow is running with GPU: [Check if GPU is working](https://stackoverflow.com/questions/38009682/how-to-tell-if-tensorflow-is-using-gpu-acceleration-from-inside-python-shell)\n"
   ]
  },
  {
   "cell_type": "markdown",
   "metadata": {},
   "source": [
    "__Support Function to plot model accuracy and loss:__"
   ]
  },
  {
   "cell_type": "code",
   "execution_count": 14,
   "metadata": {},
   "outputs": [],
   "source": [
    "def plot_model_history(model_history):\n",
    "    fig, axs = plt.subplots(1,2,figsize=(15,5))\n",
    "    # summarize history for accuracy\n",
    "    axs[0].plot(range(1,len(model_history.history['acc'])+1),model_history.history['acc'])\n",
    "    axs[0].plot(range(1,len(model_history.history['val_acc'])+1),model_history.history['val_acc'])\n",
    "    axs[0].set_title('Model Accuracy')\n",
    "    axs[0].set_ylabel('Accuracy')\n",
    "    axs[0].set_xlabel('Epoch')\n",
    "    axs[0].set_xticks(np.arange(1,len(model_history.history['acc'])+1),len(model_history.history['acc'])/10)\n",
    "    axs[0].legend(['train', 'val'], loc='best')\n",
    "    # summarize history for loss\n",
    "    axs[1].plot(range(1,len(model_history.history['loss'])+1),model_history.history['loss'])\n",
    "    axs[1].plot(range(1,len(model_history.history['val_loss'])+1),model_history.history['val_loss'])\n",
    "    axs[1].set_title('Model Loss')\n",
    "    axs[1].set_ylabel('Loss')\n",
    "    axs[1].set_xlabel('Epoch')\n",
    "    axs[1].set_xticks(np.arange(1,len(model_history.history['loss'])+1),len(model_history.history['loss'])/10)\n",
    "    axs[1].legend(['train', 'val'], loc='best')\n",
    "    plt.show()"
   ]
  },
  {
   "cell_type": "markdown",
   "metadata": {},
   "source": [
    "__Support function to compute test accuracy:__"
   ]
  },
  {
   "cell_type": "code",
   "execution_count": 15,
   "metadata": {},
   "outputs": [],
   "source": [
    "def accuracy(test_x, test_y, model):\n",
    "    result = model.predict(test_x)\n",
    "    predicted_class = np.argmax(result, axis=1)\n",
    "    true_class = np.argmax(test_y, axis=1)\n",
    "    num_correct = np.sum(predicted_class == true_class) \n",
    "    accuracy = float(num_correct)/result.shape[0]\n",
    "    return (accuracy * 100)"
   ]
  },
  {
   "cell_type": "markdown",
   "metadata": {},
   "source": [
    "## Architecture of a Convolution Neural Network:\n",
    "\n",
    "<div style=\"text-align: center;\">\n",
    "        \n",
    "        <img src=\"https://cdn-images-1.medium.com/max/900/1*XbuW8WuRrAY5pC4t-9DZAQ.jpeg\" alt=\"VGG-16\" height=\"600\" width=\"800\">\n",
    "</div>\n",
    "\n",
    "<b>Convolution Layer</b>\n",
    " - A matrix of values, called weights, that are trained to detect specific features. Also called a filter, it moves over each part of the image to check if the feature it is meant to detect is present. To provide a value representing how confident it is that a specific feature is present, the filter carries out a convolution operation, which is an element-wise product and sum between two matrices.\n",
    " - The output of the convolution operation between the filter and the input image is summed with a bias term and passed through a non-linear activation function. The purpose of the activation function is to introduce non-linearity into our network.\n",
    " - ReLU stands for Rectified Linear Unit for a non-linear operation. The output is ƒ(x) = max(0,x).\n",
    "\n",
    "<div style=\"text-align: center;\">\n",
    "       \n",
    "        <img src=\"https://cdn-images-1.medium.com/max/900/1*4yv0yIH0nVhSOv3AkLUIiw.png\" alt=\"VGG-16\" height=\"200\" width=\"450\">\n",
    "</div> \n",
    "<div style=\"text-align: center;\">\n",
    "        \n",
    "        <img src=\"https://cdn-images-1.medium.com/max/1000/0*WW3aJq2B8V2gLzd3.\" alt=\"VGG-16\" height=\"300\" width=\"450\">\n",
    "</div>\n",
    "<div style=\"text-align: center;\">\n",
    "        \n",
    "        <img src=\"https://cdn-images-1.medium.com/max/900/1*gcvuKm3nUePXwUOLXfLIMQ.png\" alt=\"VGG-16\" height=\"300\" width=\"450\">\n",
    "</div>\n",
    "\n",
    "<b>Max Pooling Layer</b>\n",
    " - In max pooling, a window passes over an image according to a set stride (how many units to move on each pass). At each step, the maximum value within the window is pooled into an output matrix, hence the name max pooling.\n",
    " - The result is a downsampled matrix of the image, that still contains the image's characteristics. This helps reduce overfitting and computational power required.\n",
    "\n",
    "\n",
    "<div style=\"text-align: center;\">\n",
    "        \n",
    "        <img src=\"https://cdn-images-1.medium.com/max/1000/0*wH3GmU0JP9zQeODt.gif\" alt=\"VGG-16\" height=\"300\" width=\"450\">\n",
    "</div> \n",
    "\n",
    "<b>Flattening Layer</b>\n",
    " -  Flattening involves transforming the entire pooled feature map matrix into a single long feature vector which is then fed to the neural network for processing. \n",
    " - The rows are concatenated to form a single long row vector\n",
    " \n",
    "<div style=\"text-align: center;\">\n",
    "        \n",
    "        <img src=\"https://cdn-images-1.medium.com/max/1000/1*Lzx2pNLpHjGTKcofsaSH1g.png\" alt=\"VGG-16\" height=\"300\" width=\"450\">\n",
    "</div> \n",
    "\n",
    "<b>Fully connected Layer</b>\n",
    " - Neurons in a fully connected layer have full connections to all activations in the previous layer, as seen in regular Neural Networks.\n",
    " - This is an efficient way of learning non-linear combinations of features extracted from previous convolutions\n",
    " - Fully connected layer looks at the output of the previous layer (which as we remember should represent the activation maps of high level features) and determines which features most correlate to a particular class. \n",
    " - For example, if the program is predicting that some image is a dog, it will have high values in the activation maps that represent high level features like a paw or 4 legs, etc. Similarly, if the program is predicting that some image is a bird, it will have high values in the activation maps that represent high level features like wings or a beak, etc. Basically, a FC layer looks at what high level features most strongly correlate to a particular class and has particular weights so that when you compute the products between the weights and the previous layer, you get the correct probabilities for the different classes.\n",
    " \n",
    "<div style=\"text-align: center;\">\n",
    "        \n",
    "        <img src=\"https://cdn-images-1.medium.com/max/900/1*Mw6LKUG8AWQhG73H1caT8w.png\" alt=\"VGG-16\" height=\"300\" width=\"450\">\n",
    "</div> \n",
    "\n",
    "Further Reading:  <br>\n",
    "[Convolutional neural networks](http://cs231n.github.io/convolutional-networks/)<br>\n",
    "\n",
    "Images references: <br>\n",
    "[Convolution neural networks from the group up](https://towardsdatascience.com/convolutional-neural-networks-from-the-ground-up-c67bb41454e1)<br>\n",
    "[Understanding CNN deep learning](https://medium.com/@RaghavPrabhu/understanding-of-convolutional-neural-network-cnn-deep-learning-99760835f148)"
   ]
  },
  {
   "cell_type": "markdown",
   "metadata": {},
   "source": [
    "### Compiling the network\n",
    " - Compile the network that we have just built by calling compile function\n",
    " - Parameters:\n",
    "  - optimizer: Algorithm used by Keras to minimize the prediction scoring metric\n",
    "  - loss: The objective function that will be minimized by the model \n",
    "  - metrics: List of metrics to be evaluated by the model during training and testing"
   ]
  },
  {
   "cell_type": "code",
   "execution_count": 16,
   "metadata": {},
   "outputs": [],
   "source": [
    "# Define the model\n",
    "\n",
    "#Initialize the model\n",
    "model = Sequential()\n",
    "\n",
    "# Step 1 - Convolution\n",
    "model.add(Conv2D(48, (3, 3), padding='same', input_shape=(3, 32, 32), activation = 'relu'))\n",
    " \n",
    "# Step 2 - Pooling\n",
    "model.add(MaxPooling2D(pool_size=(2, 2)))\n",
    "\n",
    "# Step 3 - Flattening\n",
    "model.add(Flatten())\n",
    "\n",
    "# Step 4 - Full connection\n",
    "model.add(Dense(units = 512, activation = 'relu'))\n",
    "model.add(Dense(num_classes, activation='softmax'))\n",
    "\n",
    "# Compile the model\n",
    "model.compile(optimizer='adam', loss='categorical_crossentropy', metrics=['accuracy'])"
   ]
  },
  {
   "cell_type": "code",
   "execution_count": 17,
   "metadata": {},
   "outputs": [
    {
     "name": "stdout",
     "output_type": "stream",
     "text": [
      "Train on 50000 samples, validate on 10000 samples\n",
      "Epoch 1/10\n",
      "50000/50000 [==============================] - 198s 4ms/step - loss: 1.5488 - acc: 0.4538 - val_loss: 1.2768 - val_acc: 0.5490\n",
      "Epoch 2/10\n",
      "50000/50000 [==============================] - 199s 4ms/step - loss: 1.1531 - acc: 0.5972 - val_loss: 1.1768 - val_acc: 0.5851\n",
      "Epoch 3/10\n",
      "50000/50000 [==============================] - 205s 4ms/step - loss: 1.0121 - acc: 0.6463 - val_loss: 1.0435 - val_acc: 0.6298\n",
      "Epoch 4/10\n",
      "50000/50000 [==============================] - 200s 4ms/step - loss: 0.9129 - acc: 0.6806 - val_loss: 0.9885 - val_acc: 0.6527\n",
      "Epoch 5/10\n",
      "50000/50000 [==============================] - 187s 4ms/step - loss: 0.8232 - acc: 0.7124 - val_loss: 0.9803 - val_acc: 0.6602\n",
      "Epoch 6/10\n",
      "50000/50000 [==============================] - 179s 4ms/step - loss: 0.7533 - acc: 0.7385 - val_loss: 1.0321 - val_acc: 0.6387\n",
      "Epoch 7/10\n",
      "50000/50000 [==============================] - 179s 4ms/step - loss: 0.6756 - acc: 0.7660 - val_loss: 0.9539 - val_acc: 0.6734\n",
      "Epoch 8/10\n",
      "50000/50000 [==============================] - 179s 4ms/step - loss: 0.6045 - acc: 0.7916 - val_loss: 0.9785 - val_acc: 0.6666\n",
      "Epoch 9/10\n",
      "50000/50000 [==============================] - 179s 4ms/step - loss: 0.5474 - acc: 0.8122 - val_loss: 1.0117 - val_acc: 0.6669\n",
      "Epoch 10/10\n",
      "50000/50000 [==============================] - 179s 4ms/step - loss: 0.4758 - acc: 0.8379 - val_loss: 0.9941 - val_acc: 0.6770\n"
     ]
    }
   ],
   "source": [
    "if train_models_flag == 1:\n",
    "    # Train the model\n",
    "\n",
    "    start = time.time()\n",
    "    model_info = model.fit(train_features, train_labels, \n",
    "                           batch_size=128, epochs=10, \n",
    "                           validation_data = (test_features, test_labels), \n",
    "                           verbose=1)\n",
    "    end = time.time()\n",
    "    model.save(\"saved_models/model.h5\")\n",
    "else:\n",
    "    #Load Model\n",
    "    saved_model = 'saved_models/model.h5'\n",
    "    model = load_model(saved_model)\n"
   ]
  },
  {
   "cell_type": "markdown",
   "metadata": {},
   "source": [
    "## Analyzing model performance\n",
    "\n",
    "<br> Check model performance on both train and test data \n",
    "- Plot Accuracy and loss for training and testing datasets at each epoch of model training\n",
    "\n",
    "<b>Methods to improve model performance:</b>\n",
    "- Hyper-parameters tuning\n",
    "- Try other popular such as Lenet-5\n",
    "- Use Dropout Regularization on the fully connected (dense) layers\n",
    "- Augment the data size by scrapping more images for both classes and remove noisy ones"
   ]
  },
  {
   "cell_type": "code",
   "execution_count": 18,
   "metadata": {},
   "outputs": [
    {
     "data": {
      "image/png": "[encoded data removed]",
      "text/plain": [
       "<matplotlib.figure.Figure at 0x1d8522ec860>"
      ]
     },
     "metadata": {},
     "output_type": "display_data"
    },
    {
     "name": "stdout",
     "output_type": "stream",
     "text": [
      "Accuracy on test data is: 67.7\n"
     ]
    }
   ],
   "source": [
    "if train_models_flag == 1:\n",
    "    # plot model history\n",
    "    plot_model_history(model_info)\n",
    "    #print (\"Model took {} seconds to train\".format(end - start))\n",
    "# compute test accuracy\n",
    "print (\"Accuracy on test data is: {}\".format(accuracy(test_features, test_labels, model)))"
   ]
  },
  {
   "cell_type": "markdown",
   "metadata": {},
   "source": [
    "## Hyperparameter tuning deep learning models\n",
    "\n",
    "### Parameters - optimizing neural networks:\n",
    "\n",
    "- Type of architecture\n",
    "- Number of Layers\n",
    "- Number of Neurons in a layer\n",
    "- Type of optimization / backpropagation technique\n",
    "- Dropout rate\n",
    "- Regularization parameters\n",
    "\n",
    "### Optimized CNN Architectures\n",
    "- Convolutional neural networks (CNN) have typically had a standard structure - Stacked convolutional layers (optionally followed by contrast normalization and maxpooling) are followed by one or more fully-connected layers. </b>\n",
    "- Variants of this basic design are prevalent in the image classification literature and have yielded the best results to-date on MNIST, CIFAR and most notably on the ImageNet classification challenge. \n",
    "- For larger datasets such as Imagenet, the recent trend has been to increase the number of layers and layer size,\n",
    "while using dropout to address the problem of overfitting.\n",
    "- Popular CNN Architectures:\n",
    " - https://medium.com/@sidereal/cnns-architectures-lenet-alexnet-vgg-googlenet-resnet-and-more-666091488df5\n",
    " - https://www.jeremyjordan.me/convnet-architectures/\n",
    "\n",
    "<div style=\"display:block\">\n",
    "    <div style=\"display: inline-block; text-align: center;\">\n",
    "        <b>VGG - 16 Architecture</b>\n",
    "        <img src=\"https://cdn-images-1.medium.com/max/1600/1*0Tk4JclhGOCR_uLe6RKvUQ.png\" alt=\"VGG-16\" height=\"300\" width=\"450\">\n",
    "    </div>\n",
    "    <div style=\"display: inline-block; text-align: center;\">\n",
    "        <b>AlexNet Architecture</b>\n",
    "        <img src=\"https://www.researchgate.net/profile/Santosh_Ravi_Kiran_Sarvadevabhatla/publication/289928157/figure/fig7/AS:318276145041408@1452894354477/An-illustration-of-the-weights-in-the-AlexNet-model-Note-that-after-every-layer-there.png\" alt=\"AlexNet\" height=\"300\" width=\"450\">\n",
    "    </div>\n",
    "</div>\n",
    "\n",
    "### Regularization\n",
    "\n",
    "- <b>Dropout:</b> Randomly drop units (along with their connections) from the neural network during training. The reduction in number of parameters in each step of training has effect of regularization, preventing overfitting.\n",
    "\n",
    "- <b>Kernel_regularizer:</b> Apply penalties on layer parameters during optimization. These penalties are incorporated in the loss function that the network optimizes (L2 regularisation of the weights), reducing overfitting. \n",
    "\n",
    "- <b>Batch Normalization:</b> Normalizes the activation of the previous layer at each batch, i.e. applies a transformation that maintains the mean activation close to 0 and the activation standard deviation close to 1. It addresses the problem of internal covariate shift. It also acts as a regularizer, in some cases eliminating the need for Dropout."
   ]
  },
  {
   "cell_type": "markdown",
   "metadata": {},
   "source": [
    "__Implementing a better CNN model architecture:__"
   ]
  },
  {
   "cell_type": "code",
   "execution_count": 19,
   "metadata": {},
   "outputs": [],
   "source": [
    "# Define the model\n",
    "\n",
    "#Initialize the model\n",
    "model = Sequential()\n",
    "\n",
    "# Stacked Convolution layer\n",
    "model.add(Conv2D(48, (3, 3), padding='same', input_shape=(3, 32, 32),activation = 'relu'))\n",
    "\n",
    "model.add(Conv2D(48, (3, 3),activation = 'relu'))\n",
    " \n",
    "# Max Pooling layer\n",
    "model.add(MaxPooling2D(pool_size=(2, 2)))\n",
    "\n",
    "# Dropout for regularization\n",
    "model.add(Dropout(0.25))\n",
    "\n",
    "# Stacked Convolution layer\n",
    "model.add(Conv2D(96, (3, 3), padding='same',activation = 'relu'))\n",
    "\n",
    "model.add(Conv2D(96, (3, 3),activation = 'relu'))\n",
    "\n",
    "# Max Pooling layer\n",
    "model.add(MaxPooling2D(pool_size=(2, 2)))\n",
    "\n",
    "# Dropout for regularization\n",
    "model.add(Dropout(0.25))\n",
    "\n",
    "# Stacked Convolution layer\n",
    "model.add(Conv2D(192, (3, 3), padding='same',activation = 'relu'))\n",
    "\n",
    "model.add(Conv2D(192, (3, 3),activation = 'relu'))\n",
    "\n",
    "# Max Pooling layer\n",
    "model.add(MaxPooling2D(pool_size=(2, 2)))\n",
    "\n",
    "model.add(Dropout(0.25))\n",
    "\n",
    "# Flattening\n",
    "model.add(Flatten())\n",
    "\n",
    "# Fully-connected layer\n",
    "model.add(Dense(units = 512, activation = 'relu'))\n",
    "\n",
    "# Dropout for regularization\n",
    "model.add(Dropout(0.5))\n",
    "\n",
    "# Fully-connected layer\n",
    "model.add(Dense(units = 256, activation = 'relu'))\n",
    "\n",
    "# Dropout for regularization\n",
    "model.add(Dropout(0.5))\n",
    "\n",
    "# Output Fully-connected layer\n",
    "model.add(Dense(num_classes, activation='softmax'))\n",
    "\n",
    "# Compile the model\n",
    "model.compile(optimizer='adam', loss='categorical_crossentropy', metrics=['accuracy'])"
   ]
  },
  {
   "cell_type": "code",
   "execution_count": 25,
   "metadata": {
    "scrolled": false
   },
   "outputs": [
    {
     "name": "stdout",
     "output_type": "stream",
     "text": [
      "Train on 50000 samples, validate on 10000 samples\n",
      "Epoch 1/30\n",
      "50000/50000 [==============================] - 575s 11ms/step - loss: 1.8669 - acc: 0.2768 - val_loss: 1.4773 - val_acc: 0.4494\n",
      "Epoch 2/30\n",
      "50000/50000 [==============================] - 551s 11ms/step - loss: 1.3908 - acc: 0.4983 - val_loss: 1.1298 - val_acc: 0.5897\n",
      "Epoch 3/30\n",
      "50000/50000 [==============================] - 552s 11ms/step - loss: 1.1495 - acc: 0.5925 - val_loss: 0.9710 - val_acc: 0.6558\n",
      "Epoch 4/30\n",
      "50000/50000 [==============================] - 564s 11ms/step - loss: 1.0022 - acc: 0.6482 - val_loss: 0.8867 - val_acc: 0.6901\n",
      "Epoch 5/30\n",
      "50000/50000 [==============================] - 571s 11ms/step - loss: 0.8994 - acc: 0.6875 - val_loss: 0.8190 - val_acc: 0.7166\n",
      "Epoch 6/30\n",
      "50000/50000 [==============================] - 562s 11ms/step - loss: 0.8072 - acc: 0.7217 - val_loss: 0.7392 - val_acc: 0.7428\n",
      "Epoch 7/30\n",
      "50000/50000 [==============================] - 576s 12ms/step - loss: 0.7601 - acc: 0.7394 - val_loss: 0.6876 - val_acc: 0.7633\n",
      "Epoch 8/30\n",
      "50000/50000 [==============================] - 579s 12ms/step - loss: 0.7051 - acc: 0.7595 - val_loss: 0.7860 - val_acc: 0.7365\n",
      "Epoch 9/30\n",
      "50000/50000 [==============================] - 74455s 1s/step - loss: 0.6755 - acc: 0.7695 - val_loss: 0.6541 - val_acc: 0.7817\n",
      "Epoch 10/30\n",
      "50000/50000 [==============================] - 645s 13ms/step - loss: 0.6468 - acc: 0.7798 - val_loss: 0.6280 - val_acc: 0.7891\n",
      "Epoch 11/30\n",
      "50000/50000 [==============================] - 587s 12ms/step - loss: 0.6203 - acc: 0.7875 - val_loss: 0.6454 - val_acc: 0.7850\n",
      "Epoch 12/30\n",
      "50000/50000 [==============================] - 578s 12ms/step - loss: 0.5966 - acc: 0.7980 - val_loss: 0.6068 - val_acc: 0.7926\n",
      "Epoch 13/30\n",
      "50000/50000 [==============================] - 575s 12ms/step - loss: 0.5704 - acc: 0.8051 - val_loss: 0.5903 - val_acc: 0.7962\n",
      "Epoch 14/30\n",
      "50000/50000 [==============================] - 574s 11ms/step - loss: 0.5514 - acc: 0.8112 - val_loss: 0.6056 - val_acc: 0.7930\n",
      "Epoch 15/30\n",
      "50000/50000 [==============================] - 581s 12ms/step - loss: 0.5301 - acc: 0.8181 - val_loss: 0.5888 - val_acc: 0.8013\n",
      "Epoch 16/30\n",
      "50000/50000 [==============================] - 586s 12ms/step - loss: 0.5244 - acc: 0.8205 - val_loss: 0.5905 - val_acc: 0.8042\n",
      "Epoch 17/30\n",
      "50000/50000 [==============================] - 577s 12ms/step - loss: 0.5105 - acc: 0.8269 - val_loss: 0.5913 - val_acc: 0.8071\n",
      "Epoch 18/30\n",
      "50000/50000 [==============================] - 566s 11ms/step - loss: 0.4918 - acc: 0.8338 - val_loss: 0.5716 - val_acc: 0.8112\n",
      "Epoch 19/30\n",
      "50000/50000 [==============================] - 567s 11ms/step - loss: 0.4837 - acc: 0.8349 - val_loss: 0.5693 - val_acc: 0.8130\n",
      "Epoch 20/30\n",
      "50000/50000 [==============================] - 564s 11ms/step - loss: 0.4773 - acc: 0.8380 - val_loss: 0.5987 - val_acc: 0.8049\n",
      "Epoch 21/30\n",
      "50000/50000 [==============================] - 571s 11ms/step - loss: 0.4635 - acc: 0.8424 - val_loss: 0.5994 - val_acc: 0.8073\n",
      "Epoch 22/30\n",
      "50000/50000 [==============================] - 576s 12ms/step - loss: 0.4549 - acc: 0.8433 - val_loss: 0.5921 - val_acc: 0.8086\n",
      "Epoch 23/30\n",
      "50000/50000 [==============================] - 564s 11ms/step - loss: 0.4448 - acc: 0.8500 - val_loss: 0.5795 - val_acc: 0.8139\n",
      "Epoch 24/30\n",
      "50000/50000 [==============================] - 4474s 89ms/step - loss: 0.4356 - acc: 0.8502 - val_loss: 0.5599 - val_acc: 0.8192\n",
      "Epoch 25/30\n",
      "50000/50000 [==============================] - 646s 13ms/step - loss: 0.4320 - acc: 0.8533 - val_loss: 0.5613 - val_acc: 0.8182\n",
      "Epoch 26/30\n",
      "50000/50000 [==============================] - 609s 12ms/step - loss: 0.4211 - acc: 0.8555 - val_loss: 0.5507 - val_acc: 0.8247\n",
      "Epoch 27/30\n",
      "50000/50000 [==============================] - 612s 12ms/step - loss: 0.4143 - acc: 0.8583 - val_loss: 0.5754 - val_acc: 0.8157\n",
      "Epoch 28/30\n",
      "50000/50000 [==============================] - 601s 12ms/step - loss: 0.4097 - acc: 0.8590 - val_loss: 0.5561 - val_acc: 0.8253\n",
      "Epoch 29/30\n",
      "50000/50000 [==============================] - 584s 12ms/step - loss: 0.4030 - acc: 0.8621 - val_loss: 0.5465 - val_acc: 0.8284\n",
      "Epoch 30/30\n",
      "50000/50000 [==============================] - 4447s 89ms/step - loss: 0.3973 - acc: 0.8640 - val_loss: 0.5652 - val_acc: 0.8206\n"
     ]
    },
    {
     "data": {
      "image/png": "[encoded data removed]",
      "text/plain": [
       "<matplotlib.figure.Figure at 0x25d0624ae80>"
      ]
     },
     "metadata": {},
     "output_type": "display_data"
    },
    {
     "name": "stdout",
     "output_type": "stream",
     "text": [
      "Model took 99068.97366476059 seconds to train\n",
      "Accuracy on test data is: 82.06\n"
     ]
    }
   ],
   "source": [
    "if train_models_flag == 1:\n",
    "    # Train the model\n",
    "\n",
    "    start = time.time()\n",
    "    model_info = model.fit(train_features, train_labels, \n",
    "                           batch_size=64, epochs=30, \n",
    "                           validation_data = (test_features, test_labels), \n",
    "                           verbose=1)\n",
    "    end = time.time()\n",
    "    model.save(\"saved_models/tuned_model_fin.h5\")\n",
    "    \n",
    "     # plot model history\n",
    "    plot_model_history(model_info)\n",
    "    #print (\"Model took {} seconds to train\".format(end - start))\n",
    "else:\n",
    "    #Load Model\n",
    "    saved_model = 'saved_models/tuned_model_fin.h5'\n",
    "    model = load_model(saved_model)\n",
    "    \n",
    "#compute test accuracy\n",
    "print (\"Accuracy on test data post hyperparameter tuning is: {}%\".format(accuracy(test_features, test_labels, model)))"
   ]
  },
  {
   "cell_type": "markdown",
   "metadata": {},
   "source": [
    "## Data augmentation\n",
    "- One of the major reasons for overfitting is that you don’t have enough data to train your network. \n",
    "- Apart from regularization, another very effective way to counter Overfitting is __Data Augmentation__. \n",
    "- It is the process of artificially creating more images from the images you already have by changing the size, orientation etc of the image. \n",
    "- This can be done in Keras using the __ImageDataGenerator__ instance.\n",
    "- __Includes rotation of the image, shifting the image left/right/top/bottom by some amount, flip the image horizontally or vertically, shear or zoom the image etc.__\n",
    "- Augmentation has a __regularizing effect__. Too much of this combined with other forms of regularization (weight L2, dropout, etc.) can cause the net to __underfit__.\n",
    "- [Keras image preprocessing - ImageDataGenerator](https://keras.io/preprocessing/image/)"
   ]
  },
  {
   "cell_type": "code",
   "execution_count": 31,
   "metadata": {
    "scrolled": true
   },
   "outputs": [],
   "source": [
    "from keras.preprocessing.image import ImageDataGenerator\n",
    "\n",
    "#Load Model\n",
    "saved_model = 'saved_models/tuned_model_fin.h5'\n",
    "loaded_model = load_model(saved_model)\n",
    "\n",
    "datagen = ImageDataGenerator(\n",
    "    rotation_range=10.,\n",
    "    width_shift_range=0.1,\n",
    "    height_shift_range=0.1,\n",
    "    zoom_range=.2,\n",
    "    horizontal_flip=True,\n",
    "    vertical_flip=True)"
   ]
  },
  {
   "cell_type": "code",
   "execution_count": null,
   "metadata": {},
   "outputs": [],
   "source": [
    "if train_models_flag == 1:\n",
    "    # train the model\n",
    "    start = time.time()\n",
    "    # Train the model\n",
    "    model_info = loaded_model.fit_generator(datagen.flow(train_features, train_labels, batch_size = 128),\n",
    "                                     steps_per_epoch = train_features.shape[0]/128, epochs = 30, \n",
    "                                     validation_data = (test_features, test_labels), verbose=1)\n",
    "    end = time.time()\n",
    "    loaded_model.save(\"saved_models/tuned_model_aug.h5\")\n",
    "    #print (\"Model took %0.2f seconds to train\",(end - start))\n",
    "    # plot model history\n",
    "    plot_model_history(model_info)\n",
    "    \n",
    "# compute test accuracy\n",
    "print (\"Accuracy on test data post data augmentation is: \",accuracy(test_features, test_labels, loaded_model))\n"
   ]
  },
  {
   "cell_type": "markdown",
   "metadata": {},
   "source": [
    "## Model Deployment using Flask\n",
    "\n",
    "- Python is often overlooked as a web server choice for most developers.\n",
    "- Having a backend written in Python is really useful for several reasons, among which are:\n",
    "\n",
    " - It’s easy to step up from learning Python as a regular scripting language to using it to make a backend.\n",
    " - It’s best to use if you plan on serving parts of your application that are already written in Python (For example - submitting a form, evaluating input via a Tensorflow model, and returning the output to a use)\n",
    " - It has a diverse ecosystem of packages and tools to help you with development, not to mention a great community of developers (since the language has been around so long)\n",
    " \n",
    "__Flask is a microframework for web development in Python__ \n",
    "- [Building a web app in Flask tutorial](https://medium.freecodecamp.org/how-to-use-python-and-flask-to-build-a-web-app-an-in-depth-tutorial-437dbfe9f1c6)"
   ]
  },
  {
   "cell_type": "markdown",
   "metadata": {},
   "source": [
    "### Define class names predicted by the model (in the right order)"
   ]
  },
  {
   "cell_type": "code",
   "execution_count": 34,
   "metadata": {},
   "outputs": [],
   "source": [
    "class_names = ['airplane','automobile','bird','cat','deer',\n",
    "               'dog','frog','horse','ship','truck']"
   ]
  },
  {
   "cell_type": "markdown",
   "metadata": {},
   "source": [
    "### Define function to predict the passed image using the passed model"
   ]
  },
  {
   "cell_type": "code",
   "execution_count": 35,
   "metadata": {},
   "outputs": [],
   "source": [
    "def classify(image, model):\n",
    "    #Class names for cifar 10\n",
    "    class_names = ['airplane','automobile','bird','cat','deer',\n",
    "               'dog','frog','horse','ship','truck']\n",
    "    preds = model.predict(image)\n",
    "    classification = np.argmax(preds)\n",
    "    final = pd.DataFrame({'name' : np.array(class_names),'probability' :preds[0]})\n",
    "    return final.sort_values(by = 'probability',ascending=False),class_names[classification]"
   ]
  },
  {
   "cell_type": "markdown",
   "metadata": {},
   "source": [
    "### Define flask application\n",
    "\n",
    "A standard deployed flask applcation contains the following:\n",
    "- A web page template that is rendered based on index.html (in a \"templates\" folder)\n",
    "- Saved models that are loaded (typically from \"saved_models\" folder)\n",
    "- Image input functionality possibilities - URL/single upload/bulk upload\n",
    "- Predict function to classify input image(s)\n",
    "- Output display functionality to display the predicted class with supporting results\n",
    "\n",
    "Further reading: [Deploying to the cloud with Flask as the frontend](https://medium.com/google-cloud/keras-inception-v3-on-google-compute-engine-a54918b0058)"
   ]
  },
  {
   "cell_type": "code",
   "execution_count": 44,
   "metadata": {},
   "outputs": [],
   "source": [
    "app = Flask(__name__)\n",
    "\n",
    "@app.route('/')\n",
    "def entry_page():\n",
    "    #Jinja template of the webpage\n",
    "    return render_template('index.html')\n",
    "\n",
    "@app.route('/predict_object/', methods=['GET', 'POST'])\n",
    "def render_message():\n",
    "    #Loading CNN model\n",
    "    saved_model = 'saved_models/tuned_model_fin.h5'\n",
    "    model = load_model(saved_model)\n",
    "    \n",
    "    try:\n",
    "        #Get image URL as input\n",
    "        image_url = request.form['image_url']\n",
    "        image = io.imread(image_url)\n",
    "        \n",
    "        #Apply same preprocessing used while training CNN model\n",
    "        image_small = st.resize(image, (32,32,3))\n",
    "        x = np.expand_dims(image_small.transpose(2, 0, 1), axis=0)\n",
    "        \n",
    "        #Call classify function to predict the image class using the loaded CNN model\n",
    "        final,pred_class = classify(x, model)\n",
    "        print(pred_class)\n",
    "        print(final)\n",
    "        \n",
    "        #Store model prediction results to pass to the web page\n",
    "        message = \"Model prediction: {}\".format(pred_class)\n",
    "        print('Python module executed successfully')\n",
    "        \n",
    "    except Exception as e:\n",
    "        #Store error to pass to the web page\n",
    "        message = \"Error encountered. Try another image. ErrorClass: {}, Argument: {} and Traceback details are: {}\".format(e.__class__,e.args,e.__doc__)\n",
    "        final = pd.DataFrame({'A': ['Error'], 'B': [0]})\n",
    "        \n",
    "    #Return the model results to the web page\n",
    "    return render_template('index.html',\n",
    "                            message=message,\n",
    "                            data=final.round(decimals=2),\n",
    "                            image_url=image_url)"
   ]
  },
  {
   "cell_type": "markdown",
   "metadata": {},
   "source": [
    "__Running the Flask Application:__"
   ]
  },
  {
   "cell_type": "code",
   "execution_count": null,
   "metadata": {},
   "outputs": [
    {
     "name": "stderr",
     "output_type": "stream",
     "text": [
      " * Running on http://127.0.0.1:5000/ (Press CTRL+C to quit)\n",
      "127.0.0.1 - - [21/Nov/2018 16:31:26] \"\u001b[37mGET / HTTP/1.1\u001b[0m\" 200 -\n",
      "C:\\Users\\save advait\\Documents\\Anaconda\\lib\\site-packages\\skimage\\transform\\_warps.py:84: UserWarning: The default mode, 'constant', will be changed to 'reflect' in skimage 0.15.\n",
      "  warn(\"The default mode, 'constant', will be changed to 'reflect' in \"\n",
      "127.0.0.1 - - [21/Nov/2018 16:32:07] \"\u001b[37mPOST /predict_object/ HTTP/1.1\u001b[0m\" 200 -\n"
     ]
    },
    {
     "name": "stdout",
     "output_type": "stream",
     "text": [
      "deer\n",
      "         name  probability\n",
      "4        deer     0.917073\n",
      "2        bird     0.030648\n",
      "6        frog     0.021705\n",
      "3         cat     0.015632\n",
      "5         dog     0.011226\n",
      "7       horse     0.003501\n",
      "0    airplane     0.000140\n",
      "9       truck     0.000060\n",
      "8        ship     0.000010\n",
      "1  automobile     0.000006\n",
      "Python module executed successfully\n"
     ]
    },
    {
     "name": "stderr",
     "output_type": "stream",
     "text": [
      "127.0.0.1 - - [21/Nov/2018 16:32:41] \"\u001b[37mPOST /predict_object/ HTTP/1.1\u001b[0m\" 200 -\n"
     ]
    },
    {
     "name": "stdout",
     "output_type": "stream",
     "text": [
      "ship\n",
      "         name   probability\n",
      "8        ship  9.692481e-01\n",
      "9       truck  2.905088e-02\n",
      "0    airplane  1.608322e-03\n",
      "1  automobile  7.654115e-05\n",
      "3         cat  1.343782e-05\n",
      "2        bird  1.878569e-06\n",
      "6        frog  4.376916e-07\n",
      "7       horse  2.274028e-07\n",
      "5         dog  1.440536e-07\n",
      "4        deer  8.776427e-08\n",
      "Python module executed successfully\n"
     ]
    },
    {
     "name": "stderr",
     "output_type": "stream",
     "text": [
      "127.0.0.1 - - [21/Nov/2018 16:50:51] \"\u001b[37mPOST /predict_object/ HTTP/1.1\u001b[0m\" 200 -\n"
     ]
    },
    {
     "name": "stdout",
     "output_type": "stream",
     "text": [
      "truck\n",
      "         name   probability\n",
      "9       truck  9.900088e-01\n",
      "0    airplane  9.360382e-03\n",
      "8        ship  3.453717e-04\n",
      "1  automobile  2.846480e-04\n",
      "2        bird  5.366802e-07\n",
      "7       horse  1.590086e-07\n",
      "3         cat  5.087244e-08\n",
      "4        deer  4.229175e-09\n",
      "5         dog  1.365584e-09\n",
      "6        frog  5.436616e-10\n",
      "Python module executed successfully\n"
     ]
    },
    {
     "name": "stderr",
     "output_type": "stream",
     "text": [
      "127.0.0.1 - - [21/Nov/2018 16:52:25] \"\u001b[37mPOST /predict_object/ HTTP/1.1\u001b[0m\" 200 -\n",
      "127.0.0.1 - - [21/Nov/2018 16:53:11] \"\u001b[37mPOST /predict_object/ HTTP/1.1\u001b[0m\" 200 -\n"
     ]
    },
    {
     "name": "stdout",
     "output_type": "stream",
     "text": [
      "dog\n",
      "         name  probability\n",
      "5         dog     0.553925\n",
      "2        bird     0.154127\n",
      "3         cat     0.100009\n",
      "7       horse     0.089591\n",
      "6        frog     0.048614\n",
      "9       truck     0.017196\n",
      "0    airplane     0.011169\n",
      "4        deer     0.010170\n",
      "1  automobile     0.009300\n",
      "8        ship     0.005899\n",
      "Python module executed successfully\n"
     ]
    }
   ],
   "source": [
    "#Debug is disabled for running in a jupyter notebook\n",
    "app.run(debug=False)"
   ]
  },
  {
   "cell_type": "markdown",
   "metadata": {},
   "source": [
    "## Further model improvements\n",
    "\n",
    "- Advanced Image preprocessing - Image Augmentation, Histogram Equalization, Contrast Stretching, Adaptive Equalization\n",
    " - [Image Augmentation for Deep Learning using Keras and Histogram Equalization](https://towardsdatascience.com/image-augmentation-for-deep-learning-using-keras-and-histogram-equalization-9329f6ae5085)\n",
    " \n",
    "- Image Augmentation using Keras library - ImageDataGenerator\n",
    " - [Keras preprocessing - Image](https://keras.io/preprocessing/image/)\n",
    "- Transfer Learning - Using the features of a pre-trained neural network, and finetuning the layers\n",
    " - [Building powerful image classification models using very little data](https://blog.keras.io/building-powerful-image-classification-models-using-very-little-data.html)\n",
    " - [Transfer Learning](https://towardsdatascience.com/transfer-learning-in-tensorflow-9e4f7eae3bb4)\n",
    "- Neural Network Debugging Guide:\n",
    " - [37 Reasons why your Neural Network is not working](https://blog.slavv.com/37-reasons-why-your-neural-network-is-not-working-4020854bd607)\n",
    "\n"
   ]
  },
  {
   "cell_type": "markdown",
   "metadata": {},
   "source": [
    "## Solve a problem!\n",
    "__Quickdraw doodle recognition: https://www.kaggle.com/c/quickdraw-doodle-recognition__\n",
    "- \"Quick, Draw!\" was released as an experimental game to educate the public in a playful way about how AI works. The game prompts users to draw an image depicting a certain category, such as ”banana,” “table,” etc. \n",
    "- The game generated more than 1B drawings, of which a subset was publicly released as the basis for this competition’s training set. That subset contains 50M drawings encompassing 340 label categories.\n",
    "- Here's the challenge: since the training data comes from the game itself, drawings can be incomplete or may not match the label. \n",
    "- You’ll need to build a recognizer that can effectively learn from this noisy data and perform well on a manually-labeled test set from a different distribution."
   ]
  }
 ],
 "metadata": {
  "kernelspec": {
   "display_name": "Python 3",
   "language": "python",
   "name": "python3"
  },
  "language_info": {
   "codemirror_mode": {
    "name": "ipython",
    "version": 3
   },
   "file_extension": ".py",
   "mimetype": "text/x-python",
   "name": "python",
   "nbconvert_exporter": "python",
   "pygments_lexer": "ipython3",
   "version": "3.9.18"
  },
  "toc": {
   "base_numbering": 1,
   "nav_menu": {
    "height": "458px",
    "width": "254px"
   },
   "number_sections": true,
   "sideBar": false,
   "skip_h1_title": false,
   "title_cell": "Table of Contents",
   "title_sidebar": "Contents",
   "toc_cell": true,
   "toc_position": {},
   "toc_section_display": true,
   "toc_window_display": false
  }
 },
 "nbformat": 4,
 "nbformat_minor": 2
}
